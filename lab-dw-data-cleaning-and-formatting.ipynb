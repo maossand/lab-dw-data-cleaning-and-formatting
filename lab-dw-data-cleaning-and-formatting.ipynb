{
  "cells": [
    {
      "cell_type": "markdown",
      "id": "25d7736c-ba17-4aff-b6bb-66eba20fbf4e",
      "metadata": {
        "id": "25d7736c-ba17-4aff-b6bb-66eba20fbf4e"
      },
      "source": [
        "# Lab | Data Cleaning and Formatting"
      ]
    },
    {
      "cell_type": "markdown",
      "id": "d1973e9e-8be6-4039-b70e-d73ee0d94c99",
      "metadata": {
        "id": "d1973e9e-8be6-4039-b70e-d73ee0d94c99"
      },
      "source": [
        "In this lab, we will be working with the customer data from an insurance company, which can be found in the CSV file located at the following link: https://raw.githubusercontent.com/data-bootcamp-v4/data/main/file1.csv\n"
      ]
    },
    {
      "cell_type": "markdown",
      "id": "31b8a9e7-7db9-4604-991b-ef6771603e57",
      "metadata": {
        "id": "31b8a9e7-7db9-4604-991b-ef6771603e57"
      },
      "source": [
        "# Challenge 1: Data Cleaning and Formatting"
      ]
    },
    {
      "cell_type": "markdown",
      "id": "81553f19-9f2c-484b-8940-520aff884022",
      "metadata": {
        "id": "81553f19-9f2c-484b-8940-520aff884022"
      },
      "source": [
        "## Exercise 1: Cleaning Column Names"
      ]
    },
    {
      "cell_type": "markdown",
      "id": "34a929f4-1be4-4fa8-adda-42ffd920be90",
      "metadata": {
        "id": "34a929f4-1be4-4fa8-adda-42ffd920be90"
      },
      "source": [
        "To ensure consistency and ease of use, standardize the column names of the dataframe. Start by taking a first look at the dataframe and identifying any column names that need to be modified. Use appropriate naming conventions and make sure that column names are descriptive and informative.\n",
        "\n",
        "*Hint*:\n",
        "- *Column names should be in lower case*\n",
        "- *White spaces in column names should be replaced by `_`*\n",
        "- *`st` could be replaced for `state`*"
      ]
    },
    {
      "cell_type": "code",
      "execution_count": 2,
      "id": "5810735c-8056-4442-bbf2-dda38d3e284a",
      "metadata": {
        "id": "5810735c-8056-4442-bbf2-dda38d3e284a"
      },
      "outputs": [],
      "source": [
        "# Your code here\n",
        "import pandas as pd\n",
        "url = \"https://raw.githubusercontent.com/data-bootcamp-v4/data/main/file1.csv\"\n",
        "df = pd.read_csv(url)"
      ]
    },
    {
      "cell_type": "code",
      "execution_count": null,
      "id": "ae240c90",
      "metadata": {},
      "outputs": [],
      "source": [
        "\n"
      ]
    },
    {
      "cell_type": "code",
      "execution_count": 3,
      "id": "de85a3a0",
      "metadata": {},
      "outputs": [
        {
          "name": "stdout",
          "output_type": "stream",
          "text": [
            "Index(['customer', 'st', 'gender', 'education', 'customer_lifetime_value',\n",
            "       'income', 'monthly_premium_auto', 'number_of_open_complaints',\n",
            "       'policy_type', 'vehicle_class', 'total_claim_amount'],\n",
            "      dtype='object')\n"
          ]
        }
      ],
      "source": [
        "# 1.1. Columns in lower case\n",
        "# 1.2. White spaces in column names should be replaced by `_`*\n",
        "df.columns = list(map(lambda x : x.lower().replace(\" \",\"_\"), df.columns)) #use this to clean columns names\n",
        "print(df.columns)\n"
      ]
    },
    {
      "cell_type": "code",
      "execution_count": 4,
      "id": "e8ae4c0d",
      "metadata": {},
      "outputs": [
        {
          "name": "stdout",
          "output_type": "stream",
          "text": [
            "Index(['customer', 'state', 'gender', 'education', 'customer_lifetime_value',\n",
            "       'income', 'monthly_premium_auto', 'number_of_open_complaints',\n",
            "       'policy_type', 'vehicle_class', 'total_claim_amount'],\n",
            "      dtype='object')\n"
          ]
        }
      ],
      "source": [
        "#1.3. `st` could be replaced for `state`\n",
        "#we can apply a list of names (we retrieve the former list and change the names we want to change)\n",
        "df.columns = ['customer', 'state', 'gender', 'education', 'customer_lifetime_value',\n",
        "       'income', 'monthly_premium_auto', 'number_of_open_complaints',\n",
        "       'policy_type', 'vehicle_class', 'total_claim_amount']\n",
        "print(df.columns) "
      ]
    },
    {
      "cell_type": "markdown",
      "id": "9cb501ec-36ff-4589-b872-6252bb150316",
      "metadata": {
        "id": "9cb501ec-36ff-4589-b872-6252bb150316"
      },
      "source": [
        "## Exercise 2: Cleaning invalid Values"
      ]
    },
    {
      "cell_type": "markdown",
      "id": "771fdcf3-8e20-4b06-9c24-3a93ba2b0909",
      "metadata": {
        "id": "771fdcf3-8e20-4b06-9c24-3a93ba2b0909"
      },
      "source": [
        "The dataset contains columns with inconsistent and incorrect values that could affect the accuracy of our analysis. Therefore, we need to clean these columns to ensure that they only contain valid data.\n",
        "\n",
        "Note that this exercise will focus only on cleaning inconsistent values and will not involve handling null values (NaN or None).\n",
        "\n",
        "*Hint*:\n",
        "- *Gender column contains various inconsistent values such as \"F\", \"M\", \"Femal\", \"Male\", \"female\", which need to be standardized, for example, to \"M\" and \"F\".*\n",
        "- *State abbreviations be can replaced with its full name, for example \"AZ\": \"Arizona\", \"Cali\": \"California\", \"WA\": \"Washington\"*\n",
        "- *In education, \"Bachelors\" could be replaced by \"Bachelor\"*\n",
        "- *In Customer Lifetime Value, delete the `%` character*\n",
        "- *In vehicle class, \"Sports Car\", \"Luxury SUV\" and \"Luxury Car\" could be replaced by \"Luxury\"*"
      ]
    },
    {
      "cell_type": "code",
      "execution_count": 5,
      "id": "3f8ee5cb-50ab-48af-8a9f-9a389804033c",
      "metadata": {
        "id": "3f8ee5cb-50ab-48af-8a9f-9a389804033c"
      },
      "outputs": [
        {
          "name": "stdout",
          "output_type": "stream",
          "text": [
            "F         457\n",
            "M         413\n",
            "Male       39\n",
            "female     28\n",
            "Femal      17\n",
            "Name: gender, dtype: int64\n",
            "F    502\n",
            "M    452\n",
            "Name: gender, dtype: int64\n"
          ]
        }
      ],
      "source": [
        "# Your code here\n",
        "# 2.1. - *Gender column contains various inconsistent values such as \"F\", \"M\", \"Femal\", \"Male\", \"female\", \n",
        "# which need to be standardized, for example, to \"M\" and \"F\".*\n",
        "print(df[\"gender\"].value_counts())\n",
        "gender_assignment = {\"Male\":\"M\",\"female\":\"F\",\"Femal\":\"F\",\"M\":\"M\",\"F\":\"F\"} #we need to include in the dictionary the key that we want to keep\n",
        "df[\"gender\"] = df[\"gender\"].map(gender_assignment)\n",
        "print(df[\"gender\"].value_counts())"
      ]
    },
    {
      "cell_type": "code",
      "execution_count": 6,
      "id": "116d8636",
      "metadata": {},
      "outputs": [
        {
          "name": "stdout",
          "output_type": "stream",
          "text": [
            "Oregon        320\n",
            "California    211\n",
            "Arizona       186\n",
            "Cali          120\n",
            "Nevada         98\n",
            "Washington     81\n",
            "WA             30\n",
            "AZ             25\n",
            "Name: state, dtype: int64\n",
            "California    331\n",
            "Oregon        320\n",
            "Arizona       211\n",
            "Washington    111\n",
            "Nevada         98\n",
            "Name: state, dtype: int64\n"
          ]
        }
      ],
      "source": [
        "# 2.2. - *State abbreviations be can replaced with its full name, for example \"AZ\": \"Arizona\", \"Cali\": \"California\", \"WA\": \"Washington\"*\n",
        "print(df[\"state\"].value_counts())\n",
        "state_assignment = {\"Cali\":\"California\",\"WA\":\"Washington\",\"AZ\":\"Arizona\",\"Oregon\":\"Oregon\",\"California\":\"California\",\"Arizona\":\"Arizona\",\"Nevada\":\"Nevada\",\"Washington\":\"Washington\"}\n",
        "df[\"state\"] = df[\"state\"].map(state_assignment)\n",
        "print(df[\"state\"].value_counts())"
      ]
    },
    {
      "cell_type": "code",
      "execution_count": 7,
      "id": "15c88e48",
      "metadata": {},
      "outputs": [
        {
          "name": "stdout",
          "output_type": "stream",
          "text": [
            "Bachelor                324\n",
            "College                 313\n",
            "High School or Below    296\n",
            "Master                   94\n",
            "Doctor                   37\n",
            "Bachelors                 7\n",
            "Name: education, dtype: int64\n",
            "Bachelor                331\n",
            "College                 313\n",
            "High School or Below    296\n",
            "Master                   94\n",
            "Doctor                   37\n",
            "Name: education, dtype: int64\n"
          ]
        }
      ],
      "source": [
        "# 2.3. - *In education, \"Bachelors\" could be replaced by \"Bachelor\"*\n",
        "print(df[\"education\"].value_counts())\n",
        "df[\"education\"] = df[\"education\"].replace(\"Bachelors\",\"Bachelor\")\n",
        "print(df[\"education\"].value_counts())\n",
        "\n"
      ]
    },
    {
      "cell_type": "code",
      "execution_count": 8,
      "id": "7896cd26",
      "metadata": {},
      "outputs": [
        {
          "name": "stdout",
          "output_type": "stream",
          "text": [
            "445811.34%     4\n",
            "251459.20%     4\n",
            "272535.64%     3\n",
            "578018.22%     3\n",
            "684615.03%     3\n",
            "              ..\n",
            "245357.08%     1\n",
            "507566.27%     1\n",
            "321497.94%     1\n",
            "1227534.31%    1\n",
            "899704.02%     1\n",
            "Name: customer_lifetime_value, Length: 1027, dtype: int64\n",
            "445811.34     4\n",
            "251459.20     4\n",
            "272535.64     3\n",
            "578018.22     3\n",
            "684615.03     3\n",
            "             ..\n",
            "245357.08     1\n",
            "507566.27     1\n",
            "321497.94     1\n",
            "1227534.31    1\n",
            "899704.02     1\n",
            "Name: customer_lifetime_value, Length: 1027, dtype: int64\n"
          ]
        }
      ],
      "source": [
        "# 2.4. - *In Customer Lifetime Value, delete the `%` character*\n",
        "print(df[\"customer_lifetime_value\"].value_counts())\n",
        "df[\"customer_lifetime_value\"] = df[\"customer_lifetime_value\"].str.replace(\"%\",\"\")\n",
        "print(df[\"customer_lifetime_value\"].value_counts())"
      ]
    },
    {
      "cell_type": "code",
      "execution_count": 9,
      "id": "3530d7a3",
      "metadata": {},
      "outputs": [
        {
          "name": "stdout",
          "output_type": "stream",
          "text": [
            "Four-Door Car    576\n",
            "Two-Door Car     205\n",
            "SUV              199\n",
            "Luxury            91\n",
            "Name: vehicle_class, dtype: int64\n"
          ]
        }
      ],
      "source": [
        "# 2.5. - *In vehicle class, \"Sports Car\", \"Luxury SUV\" and \"Luxury Car\" could be replaced by \"Luxury\"*\n",
        "class_assignment = {\"Sports Car\":\"Luxury\",\"Luxury SUV\":\"Luxury\",\"Luxury Car\":\"Luxury\"} #here we need to use a tuple and not a list because dictionary keys are immutable\n",
        "df[\"vehicle_class\"] = df[\"vehicle_class\"].replace(\"Sports Car\",\"Luxury\").replace(\"Luxury SUV\",\"Luxury\").replace(\"Luxury Car\",\"Luxury\")\n",
        "print(df[\"vehicle_class\"].value_counts())\n",
        "\n",
        "#here using class_assignment and map did not work"
      ]
    },
    {
      "cell_type": "code",
      "execution_count": 10,
      "id": "7d06236f",
      "metadata": {},
      "outputs": [],
      "source": [
        "class_assignment = [\"Sports Car\",\"Luxury SUV\",\"Luxury Car\"]\n",
        "df[\"vehicle_class\"] = df[\"vehicle_class\"].apply(lambda x: \"Luxury\" if x in class_assignment else x)"
      ]
    },
    {
      "cell_type": "code",
      "execution_count": 11,
      "id": "6de28b73",
      "metadata": {},
      "outputs": [
        {
          "name": "stdout",
          "output_type": "stream",
          "text": [
            "Four-Door Car    576\n",
            "Two-Door Car     205\n",
            "SUV              199\n",
            "Luxury            91\n",
            "Name: vehicle_class, dtype: int64\n"
          ]
        }
      ],
      "source": [
        "print(df[\"vehicle_class\"].value_counts())"
      ]
    },
    {
      "cell_type": "markdown",
      "id": "85ff78ce-0174-4890-9db3-8048b7d7d2d0",
      "metadata": {
        "id": "85ff78ce-0174-4890-9db3-8048b7d7d2d0"
      },
      "source": [
        "## Exercise 3: Formatting data types"
      ]
    },
    {
      "cell_type": "markdown",
      "id": "b91c2cf8-79a2-4baf-9f65-ff2fb22270bd",
      "metadata": {
        "id": "b91c2cf8-79a2-4baf-9f65-ff2fb22270bd"
      },
      "source": [
        "The data types of many columns in the dataset appear to be incorrect. This could impact the accuracy of our analysis. To ensure accurate analysis, we need to correct the data types of these columns. Please update the data types of the columns as appropriate."
      ]
    },
    {
      "cell_type": "markdown",
      "id": "43e5d853-ff9e-43b2-9d92-aef2f78764f3",
      "metadata": {
        "id": "43e5d853-ff9e-43b2-9d92-aef2f78764f3"
      },
      "source": [
        "It is important to note that this exercise does not involve handling null values (NaN or None)."
      ]
    },
    {
      "cell_type": "markdown",
      "id": "329ca691-9196-4419-8969-3596746237a1",
      "metadata": {
        "id": "329ca691-9196-4419-8969-3596746237a1"
      },
      "source": [
        "*Hint*:\n",
        "- *Customer lifetime value should be numeric*\n",
        "- *Number of open complaints has an incorrect format. Look at the different values it takes with `unique()` and take the middle value. As an example, 1/5/00 should be 5. Number of open complaints is a string - remember you can use `split()` to deal with it and take the number you need. Finally, since it should be numeric, cast the column to be in its proper type.*"
      ]
    },
    {
      "cell_type": "code",
      "execution_count": 12,
      "id": "eb8f5991-73e9-405f-bf1c-6b7c589379a9",
      "metadata": {
        "id": "eb8f5991-73e9-405f-bf1c-6b7c589379a9"
      },
      "outputs": [
        {
          "name": "stdout",
          "output_type": "stream",
          "text": [
            "customer                      object\n",
            "state                         object\n",
            "gender                        object\n",
            "education                     object\n",
            "customer_lifetime_value       object\n",
            "income                       float64\n",
            "monthly_premium_auto         float64\n",
            "number_of_open_complaints     object\n",
            "policy_type                   object\n",
            "vehicle_class                 object\n",
            "total_claim_amount           float64\n",
            "dtype: object\n",
            "\n",
            "2940\n"
          ]
        }
      ],
      "source": [
        "# # Your code here\n",
        "# 3.1. - *Customer lifetime value should be numeric*\n",
        "print(df.dtypes)\n",
        "df[\"customer_lifetime_value\"] = pd.to_numeric(df[\"customer_lifetime_value\"],errors='coerce') #this function allows to change the type of the column without dealing with the Nan\n",
        "print(\"\")\n",
        "print(df[\"customer_lifetime_value\"].isna().sum())"
      ]
    },
    {
      "cell_type": "code",
      "execution_count": 13,
      "id": "c2452814",
      "metadata": {},
      "outputs": [
        {
          "name": "stdout",
          "output_type": "stream",
          "text": [
            "['1/0/00' '1/2/00' '1/1/00' '1/3/00' '1/5/00' '1/4/00' nan]\n",
            "1/0/00    830\n",
            "1/1/00    138\n",
            "1/2/00     50\n",
            "1/3/00     34\n",
            "1/4/00     13\n",
            "1/5/00      6\n",
            "Name: number_of_open_complaints, dtype: int64\n"
          ]
        }
      ],
      "source": [
        "\n",
        "# 3.2. - *Number of open complaints has an incorrect format. Look at the different values it takes with \n",
        "# `unique()` and take the middle value. \n",
        "#As an example, 1/5/00 should be 5. \n",
        "#Number of open complaints is a string - remember you can use `split()` to deal with it and take the number you need. \n",
        "#Finally, since it should be numeric, cast the column to be in its proper type.*\n",
        "\n",
        "print(df[\"number_of_open_complaints\"].unique())\n",
        "print(df[\"number_of_open_complaints\"].value_counts())\n",
        "\n",
        "df[\"number_of_open_complaints\"] = df[\"number_of_open_complaints\"].str.split(\"/\").str[1] #the split function will create 3 values, with str[1] we keep the value at index 1 (element in the middle)\n",
        "\n",
        "#the column is already an int"
      ]
    },
    {
      "cell_type": "markdown",
      "id": "14c52e28-2d0c-4dd2-8bd5-3476e34fadc1",
      "metadata": {
        "id": "14c52e28-2d0c-4dd2-8bd5-3476e34fadc1"
      },
      "source": [
        "## Exercise 4: Dealing with Null values"
      ]
    },
    {
      "cell_type": "markdown",
      "id": "34b9a20f-7d32-4417-975e-1b4dfb0e16cd",
      "metadata": {
        "id": "34b9a20f-7d32-4417-975e-1b4dfb0e16cd"
      },
      "source": [
        "Identify any columns with null or missing values. Identify how many null values each column has. You can use the `isnull()` function in pandas to find columns with null values.\n",
        "\n",
        "Decide on a strategy for handling the null values. There are several options, including:\n",
        "\n",
        "- Drop the rows or columns with null values\n",
        "- Fill the null values with a specific value (such as the column mean or median for numerical variables, and mode for categorical variables)\n",
        "- Fill the null values with the previous or next value in the column\n",
        "- Fill the null values based on a more complex algorithm or model (note: we haven't covered this yet)\n",
        "\n",
        "Implement your chosen strategy to handle the null values. You can use the `fillna()` function in pandas to fill null values or `dropna()` function to drop null values.\n",
        "\n",
        "Verify that your strategy has successfully handled the null values. You can use the `isnull()` function again to check if there are still null values in the dataset.\n",
        "\n",
        "Remember to document your process and explain your reasoning for choosing a particular strategy for handling null values.\n",
        "\n",
        "After formatting data types, as a last step, convert all the numeric variables to integers."
      ]
    },
    {
      "cell_type": "code",
      "execution_count": 14,
      "id": "f184fc35-7831-4836-a0a5-e7f99e01b40e",
      "metadata": {
        "id": "f184fc35-7831-4836-a0a5-e7f99e01b40e"
      },
      "outputs": [],
      "source": [
        "# Your code here\n",
        "def find_null(dataframe, columns):\n",
        "    missing_values = {}\n",
        "    df_rows = len(dataframe)\n",
        "    for column in columns:\n",
        "        total_column_values = dataframe[column].value_counts().sum()\n",
        "        missing_values[column] = df_rows - total_column_values\n",
        "        print(f\"The column {column} has {missing_values[column]} missing values.\")\n",
        "\n",
        "    "
      ]
    },
    {
      "cell_type": "code",
      "execution_count": 15,
      "id": "3eebd0be",
      "metadata": {},
      "outputs": [
        {
          "name": "stdout",
          "output_type": "stream",
          "text": [
            "The column customer has 2937 missing values.\n",
            "The column state has 2937 missing values.\n",
            "The column gender has 3054 missing values.\n",
            "The column education has 2937 missing values.\n",
            "The column customer_lifetime_value has 2940 missing values.\n",
            "The column income has 2937 missing values.\n",
            "The column monthly_premium_auto has 2937 missing values.\n",
            "The column number_of_open_complaints has 2937 missing values.\n",
            "The column policy_type has 2937 missing values.\n",
            "The column vehicle_class has 2937 missing values.\n",
            "The column total_claim_amount has 2937 missing values.\n"
          ]
        }
      ],
      "source": [
        "find_null(df,df.columns)"
      ]
    },
    {
      "cell_type": "code",
      "execution_count": 16,
      "id": "3db3ee4e",
      "metadata": {},
      "outputs": [
        {
          "data": {
            "text/plain": [
              "{'customer': 2937,\n",
              " 'state': 2937,\n",
              " 'gender': 3054,\n",
              " 'education': 2937,\n",
              " 'customer_lifetime_value': 2940,\n",
              " 'income': 2937,\n",
              " 'monthly_premium_auto': 2937,\n",
              " 'number_of_open_complaints': 2937,\n",
              " 'policy_type': 2937,\n",
              " 'vehicle_class': 2937,\n",
              " 'total_claim_amount': 2937}"
            ]
          },
          "execution_count": 16,
          "metadata": {},
          "output_type": "execute_result"
        }
      ],
      "source": [
        "df.isna().sum().to_dict() #this generates a dictionary with column names as keys and the sum of missing values as value"
      ]
    },
    {
      "cell_type": "code",
      "execution_count": 17,
      "id": "a1bf2a4f",
      "metadata": {},
      "outputs": [
        {
          "data": {
            "text/html": [
              "<div>\n",
              "<style scoped>\n",
              "    .dataframe tbody tr th:only-of-type {\n",
              "        vertical-align: middle;\n",
              "    }\n",
              "\n",
              "    .dataframe tbody tr th {\n",
              "        vertical-align: top;\n",
              "    }\n",
              "\n",
              "    .dataframe thead th {\n",
              "        text-align: right;\n",
              "    }\n",
              "</style>\n",
              "<table border=\"1\" class=\"dataframe\">\n",
              "  <thead>\n",
              "    <tr style=\"text-align: right;\">\n",
              "      <th></th>\n",
              "      <th>customer</th>\n",
              "      <th>state</th>\n",
              "      <th>gender</th>\n",
              "      <th>education</th>\n",
              "      <th>customer_lifetime_value</th>\n",
              "      <th>income</th>\n",
              "      <th>monthly_premium_auto</th>\n",
              "      <th>number_of_open_complaints</th>\n",
              "      <th>policy_type</th>\n",
              "      <th>vehicle_class</th>\n",
              "      <th>total_claim_amount</th>\n",
              "    </tr>\n",
              "  </thead>\n",
              "  <tbody>\n",
              "    <tr>\n",
              "      <th>0</th>\n",
              "      <td>RB50392</td>\n",
              "      <td>Washington</td>\n",
              "      <td>NaN</td>\n",
              "      <td>Master</td>\n",
              "      <td>NaN</td>\n",
              "      <td>0.0</td>\n",
              "      <td>1000.0</td>\n",
              "      <td>0</td>\n",
              "      <td>Personal Auto</td>\n",
              "      <td>Four-Door Car</td>\n",
              "      <td>2.704934</td>\n",
              "    </tr>\n",
              "    <tr>\n",
              "      <th>1</th>\n",
              "      <td>QZ44356</td>\n",
              "      <td>Arizona</td>\n",
              "      <td>F</td>\n",
              "      <td>Bachelor</td>\n",
              "      <td>697953.59</td>\n",
              "      <td>0.0</td>\n",
              "      <td>94.0</td>\n",
              "      <td>0</td>\n",
              "      <td>Personal Auto</td>\n",
              "      <td>Four-Door Car</td>\n",
              "      <td>1131.464935</td>\n",
              "    </tr>\n",
              "    <tr>\n",
              "      <th>2</th>\n",
              "      <td>AI49188</td>\n",
              "      <td>Nevada</td>\n",
              "      <td>F</td>\n",
              "      <td>Bachelor</td>\n",
              "      <td>1288743.17</td>\n",
              "      <td>48767.0</td>\n",
              "      <td>108.0</td>\n",
              "      <td>0</td>\n",
              "      <td>Personal Auto</td>\n",
              "      <td>Two-Door Car</td>\n",
              "      <td>566.472247</td>\n",
              "    </tr>\n",
              "    <tr>\n",
              "      <th>3</th>\n",
              "      <td>WW63253</td>\n",
              "      <td>California</td>\n",
              "      <td>M</td>\n",
              "      <td>Bachelor</td>\n",
              "      <td>764586.18</td>\n",
              "      <td>0.0</td>\n",
              "      <td>106.0</td>\n",
              "      <td>0</td>\n",
              "      <td>Corporate Auto</td>\n",
              "      <td>SUV</td>\n",
              "      <td>529.881344</td>\n",
              "    </tr>\n",
              "    <tr>\n",
              "      <th>4</th>\n",
              "      <td>GA49547</td>\n",
              "      <td>Washington</td>\n",
              "      <td>M</td>\n",
              "      <td>High School or Below</td>\n",
              "      <td>536307.65</td>\n",
              "      <td>36357.0</td>\n",
              "      <td>68.0</td>\n",
              "      <td>0</td>\n",
              "      <td>Personal Auto</td>\n",
              "      <td>Four-Door Car</td>\n",
              "      <td>17.269323</td>\n",
              "    </tr>\n",
              "    <tr>\n",
              "      <th>...</th>\n",
              "      <td>...</td>\n",
              "      <td>...</td>\n",
              "      <td>...</td>\n",
              "      <td>...</td>\n",
              "      <td>...</td>\n",
              "      <td>...</td>\n",
              "      <td>...</td>\n",
              "      <td>...</td>\n",
              "      <td>...</td>\n",
              "      <td>...</td>\n",
              "      <td>...</td>\n",
              "    </tr>\n",
              "    <tr>\n",
              "      <th>1066</th>\n",
              "      <td>TM65736</td>\n",
              "      <td>Oregon</td>\n",
              "      <td>M</td>\n",
              "      <td>Master</td>\n",
              "      <td>305955.03</td>\n",
              "      <td>38644.0</td>\n",
              "      <td>78.0</td>\n",
              "      <td>1</td>\n",
              "      <td>Personal Auto</td>\n",
              "      <td>Four-Door Car</td>\n",
              "      <td>361.455219</td>\n",
              "    </tr>\n",
              "    <tr>\n",
              "      <th>1067</th>\n",
              "      <td>VJ51327</td>\n",
              "      <td>California</td>\n",
              "      <td>F</td>\n",
              "      <td>High School or Below</td>\n",
              "      <td>2031499.76</td>\n",
              "      <td>63209.0</td>\n",
              "      <td>102.0</td>\n",
              "      <td>2</td>\n",
              "      <td>Personal Auto</td>\n",
              "      <td>SUV</td>\n",
              "      <td>207.320041</td>\n",
              "    </tr>\n",
              "    <tr>\n",
              "      <th>1068</th>\n",
              "      <td>GS98873</td>\n",
              "      <td>Arizona</td>\n",
              "      <td>F</td>\n",
              "      <td>Bachelor</td>\n",
              "      <td>323912.47</td>\n",
              "      <td>16061.0</td>\n",
              "      <td>88.0</td>\n",
              "      <td>0</td>\n",
              "      <td>Personal Auto</td>\n",
              "      <td>Four-Door Car</td>\n",
              "      <td>633.600000</td>\n",
              "    </tr>\n",
              "    <tr>\n",
              "      <th>1069</th>\n",
              "      <td>CW49887</td>\n",
              "      <td>California</td>\n",
              "      <td>F</td>\n",
              "      <td>Master</td>\n",
              "      <td>462680.11</td>\n",
              "      <td>79487.0</td>\n",
              "      <td>114.0</td>\n",
              "      <td>0</td>\n",
              "      <td>Special Auto</td>\n",
              "      <td>SUV</td>\n",
              "      <td>547.200000</td>\n",
              "    </tr>\n",
              "    <tr>\n",
              "      <th>1070</th>\n",
              "      <td>MY31220</td>\n",
              "      <td>California</td>\n",
              "      <td>F</td>\n",
              "      <td>College</td>\n",
              "      <td>899704.02</td>\n",
              "      <td>54230.0</td>\n",
              "      <td>112.0</td>\n",
              "      <td>0</td>\n",
              "      <td>Personal Auto</td>\n",
              "      <td>Two-Door Car</td>\n",
              "      <td>537.600000</td>\n",
              "    </tr>\n",
              "  </tbody>\n",
              "</table>\n",
              "<p>1071 rows × 11 columns</p>\n",
              "</div>"
            ],
            "text/plain": [
              "     customer       state gender             education  \\\n",
              "0     RB50392  Washington    NaN                Master   \n",
              "1     QZ44356     Arizona      F              Bachelor   \n",
              "2     AI49188      Nevada      F              Bachelor   \n",
              "3     WW63253  California      M              Bachelor   \n",
              "4     GA49547  Washington      M  High School or Below   \n",
              "...       ...         ...    ...                   ...   \n",
              "1066  TM65736      Oregon      M                Master   \n",
              "1067  VJ51327  California      F  High School or Below   \n",
              "1068  GS98873     Arizona      F              Bachelor   \n",
              "1069  CW49887  California      F                Master   \n",
              "1070  MY31220  California      F               College   \n",
              "\n",
              "      customer_lifetime_value   income  monthly_premium_auto  \\\n",
              "0                         NaN      0.0                1000.0   \n",
              "1                   697953.59      0.0                  94.0   \n",
              "2                  1288743.17  48767.0                 108.0   \n",
              "3                   764586.18      0.0                 106.0   \n",
              "4                   536307.65  36357.0                  68.0   \n",
              "...                       ...      ...                   ...   \n",
              "1066                305955.03  38644.0                  78.0   \n",
              "1067               2031499.76  63209.0                 102.0   \n",
              "1068                323912.47  16061.0                  88.0   \n",
              "1069                462680.11  79487.0                 114.0   \n",
              "1070                899704.02  54230.0                 112.0   \n",
              "\n",
              "     number_of_open_complaints     policy_type  vehicle_class  \\\n",
              "0                            0   Personal Auto  Four-Door Car   \n",
              "1                            0   Personal Auto  Four-Door Car   \n",
              "2                            0   Personal Auto   Two-Door Car   \n",
              "3                            0  Corporate Auto            SUV   \n",
              "4                            0   Personal Auto  Four-Door Car   \n",
              "...                        ...             ...            ...   \n",
              "1066                         1   Personal Auto  Four-Door Car   \n",
              "1067                         2   Personal Auto            SUV   \n",
              "1068                         0   Personal Auto  Four-Door Car   \n",
              "1069                         0    Special Auto            SUV   \n",
              "1070                         0   Personal Auto   Two-Door Car   \n",
              "\n",
              "      total_claim_amount  \n",
              "0               2.704934  \n",
              "1            1131.464935  \n",
              "2             566.472247  \n",
              "3             529.881344  \n",
              "4              17.269323  \n",
              "...                  ...  \n",
              "1066          361.455219  \n",
              "1067          207.320041  \n",
              "1068          633.600000  \n",
              "1069          547.200000  \n",
              "1070          537.600000  \n",
              "\n",
              "[1071 rows x 11 columns]"
            ]
          },
          "execution_count": 17,
          "metadata": {},
          "output_type": "execute_result"
        }
      ],
      "source": [
        "# 4.1. - Drop the rows or columns with null values\n",
        "#using how=any erases everything how=all drops 2937 rows\n",
        "#use threshold\n",
        "df_dropped = df.dropna(how=\"all\")\n",
        "df_dropped\n",
        "\n"
      ]
    },
    {
      "cell_type": "code",
      "execution_count": 18,
      "id": "9b12f2ba",
      "metadata": {},
      "outputs": [
        {
          "data": {
            "text/html": [
              "<div>\n",
              "<style scoped>\n",
              "    .dataframe tbody tr th:only-of-type {\n",
              "        vertical-align: middle;\n",
              "    }\n",
              "\n",
              "    .dataframe tbody tr th {\n",
              "        vertical-align: top;\n",
              "    }\n",
              "\n",
              "    .dataframe thead th {\n",
              "        text-align: right;\n",
              "    }\n",
              "</style>\n",
              "<table border=\"1\" class=\"dataframe\">\n",
              "  <thead>\n",
              "    <tr style=\"text-align: right;\">\n",
              "      <th></th>\n",
              "      <th>customer</th>\n",
              "      <th>state</th>\n",
              "      <th>gender</th>\n",
              "      <th>education</th>\n",
              "      <th>customer_lifetime_value</th>\n",
              "      <th>income</th>\n",
              "      <th>monthly_premium_auto</th>\n",
              "      <th>number_of_open_complaints</th>\n",
              "      <th>policy_type</th>\n",
              "      <th>vehicle_class</th>\n",
              "      <th>total_claim_amount</th>\n",
              "    </tr>\n",
              "  </thead>\n",
              "  <tbody>\n",
              "    <tr>\n",
              "      <th>1</th>\n",
              "      <td>QZ44356</td>\n",
              "      <td>Arizona</td>\n",
              "      <td>F</td>\n",
              "      <td>Bachelor</td>\n",
              "      <td>697953.59</td>\n",
              "      <td>0.0</td>\n",
              "      <td>94.0</td>\n",
              "      <td>0</td>\n",
              "      <td>Personal Auto</td>\n",
              "      <td>Four-Door Car</td>\n",
              "      <td>1131.464935</td>\n",
              "    </tr>\n",
              "    <tr>\n",
              "      <th>2</th>\n",
              "      <td>AI49188</td>\n",
              "      <td>Nevada</td>\n",
              "      <td>F</td>\n",
              "      <td>Bachelor</td>\n",
              "      <td>1288743.17</td>\n",
              "      <td>48767.0</td>\n",
              "      <td>108.0</td>\n",
              "      <td>0</td>\n",
              "      <td>Personal Auto</td>\n",
              "      <td>Two-Door Car</td>\n",
              "      <td>566.472247</td>\n",
              "    </tr>\n",
              "    <tr>\n",
              "      <th>3</th>\n",
              "      <td>WW63253</td>\n",
              "      <td>California</td>\n",
              "      <td>M</td>\n",
              "      <td>Bachelor</td>\n",
              "      <td>764586.18</td>\n",
              "      <td>0.0</td>\n",
              "      <td>106.0</td>\n",
              "      <td>0</td>\n",
              "      <td>Corporate Auto</td>\n",
              "      <td>SUV</td>\n",
              "      <td>529.881344</td>\n",
              "    </tr>\n",
              "    <tr>\n",
              "      <th>4</th>\n",
              "      <td>GA49547</td>\n",
              "      <td>Washington</td>\n",
              "      <td>M</td>\n",
              "      <td>High School or Below</td>\n",
              "      <td>536307.65</td>\n",
              "      <td>36357.0</td>\n",
              "      <td>68.0</td>\n",
              "      <td>0</td>\n",
              "      <td>Personal Auto</td>\n",
              "      <td>Four-Door Car</td>\n",
              "      <td>17.269323</td>\n",
              "    </tr>\n",
              "    <tr>\n",
              "      <th>5</th>\n",
              "      <td>OC83172</td>\n",
              "      <td>Oregon</td>\n",
              "      <td>F</td>\n",
              "      <td>Bachelor</td>\n",
              "      <td>825629.78</td>\n",
              "      <td>62902.0</td>\n",
              "      <td>69.0</td>\n",
              "      <td>0</td>\n",
              "      <td>Personal Auto</td>\n",
              "      <td>Two-Door Car</td>\n",
              "      <td>159.383042</td>\n",
              "    </tr>\n",
              "    <tr>\n",
              "      <th>...</th>\n",
              "      <td>...</td>\n",
              "      <td>...</td>\n",
              "      <td>...</td>\n",
              "      <td>...</td>\n",
              "      <td>...</td>\n",
              "      <td>...</td>\n",
              "      <td>...</td>\n",
              "      <td>...</td>\n",
              "      <td>...</td>\n",
              "      <td>...</td>\n",
              "      <td>...</td>\n",
              "    </tr>\n",
              "    <tr>\n",
              "      <th>1066</th>\n",
              "      <td>TM65736</td>\n",
              "      <td>Oregon</td>\n",
              "      <td>M</td>\n",
              "      <td>Master</td>\n",
              "      <td>305955.03</td>\n",
              "      <td>38644.0</td>\n",
              "      <td>78.0</td>\n",
              "      <td>1</td>\n",
              "      <td>Personal Auto</td>\n",
              "      <td>Four-Door Car</td>\n",
              "      <td>361.455219</td>\n",
              "    </tr>\n",
              "    <tr>\n",
              "      <th>1067</th>\n",
              "      <td>VJ51327</td>\n",
              "      <td>California</td>\n",
              "      <td>F</td>\n",
              "      <td>High School or Below</td>\n",
              "      <td>2031499.76</td>\n",
              "      <td>63209.0</td>\n",
              "      <td>102.0</td>\n",
              "      <td>2</td>\n",
              "      <td>Personal Auto</td>\n",
              "      <td>SUV</td>\n",
              "      <td>207.320041</td>\n",
              "    </tr>\n",
              "    <tr>\n",
              "      <th>1068</th>\n",
              "      <td>GS98873</td>\n",
              "      <td>Arizona</td>\n",
              "      <td>F</td>\n",
              "      <td>Bachelor</td>\n",
              "      <td>323912.47</td>\n",
              "      <td>16061.0</td>\n",
              "      <td>88.0</td>\n",
              "      <td>0</td>\n",
              "      <td>Personal Auto</td>\n",
              "      <td>Four-Door Car</td>\n",
              "      <td>633.600000</td>\n",
              "    </tr>\n",
              "    <tr>\n",
              "      <th>1069</th>\n",
              "      <td>CW49887</td>\n",
              "      <td>California</td>\n",
              "      <td>F</td>\n",
              "      <td>Master</td>\n",
              "      <td>462680.11</td>\n",
              "      <td>79487.0</td>\n",
              "      <td>114.0</td>\n",
              "      <td>0</td>\n",
              "      <td>Special Auto</td>\n",
              "      <td>SUV</td>\n",
              "      <td>547.200000</td>\n",
              "    </tr>\n",
              "    <tr>\n",
              "      <th>1070</th>\n",
              "      <td>MY31220</td>\n",
              "      <td>California</td>\n",
              "      <td>F</td>\n",
              "      <td>College</td>\n",
              "      <td>899704.02</td>\n",
              "      <td>54230.0</td>\n",
              "      <td>112.0</td>\n",
              "      <td>0</td>\n",
              "      <td>Personal Auto</td>\n",
              "      <td>Two-Door Car</td>\n",
              "      <td>537.600000</td>\n",
              "    </tr>\n",
              "  </tbody>\n",
              "</table>\n",
              "<p>1070 rows × 11 columns</p>\n",
              "</div>"
            ],
            "text/plain": [
              "     customer       state gender             education  \\\n",
              "1     QZ44356     Arizona      F              Bachelor   \n",
              "2     AI49188      Nevada      F              Bachelor   \n",
              "3     WW63253  California      M              Bachelor   \n",
              "4     GA49547  Washington      M  High School or Below   \n",
              "5     OC83172      Oregon      F              Bachelor   \n",
              "...       ...         ...    ...                   ...   \n",
              "1066  TM65736      Oregon      M                Master   \n",
              "1067  VJ51327  California      F  High School or Below   \n",
              "1068  GS98873     Arizona      F              Bachelor   \n",
              "1069  CW49887  California      F                Master   \n",
              "1070  MY31220  California      F               College   \n",
              "\n",
              "      customer_lifetime_value   income  monthly_premium_auto  \\\n",
              "1                   697953.59      0.0                  94.0   \n",
              "2                  1288743.17  48767.0                 108.0   \n",
              "3                   764586.18      0.0                 106.0   \n",
              "4                   536307.65  36357.0                  68.0   \n",
              "5                   825629.78  62902.0                  69.0   \n",
              "...                       ...      ...                   ...   \n",
              "1066                305955.03  38644.0                  78.0   \n",
              "1067               2031499.76  63209.0                 102.0   \n",
              "1068                323912.47  16061.0                  88.0   \n",
              "1069                462680.11  79487.0                 114.0   \n",
              "1070                899704.02  54230.0                 112.0   \n",
              "\n",
              "     number_of_open_complaints     policy_type  vehicle_class  \\\n",
              "1                            0   Personal Auto  Four-Door Car   \n",
              "2                            0   Personal Auto   Two-Door Car   \n",
              "3                            0  Corporate Auto            SUV   \n",
              "4                            0   Personal Auto  Four-Door Car   \n",
              "5                            0   Personal Auto   Two-Door Car   \n",
              "...                        ...             ...            ...   \n",
              "1066                         1   Personal Auto  Four-Door Car   \n",
              "1067                         2   Personal Auto            SUV   \n",
              "1068                         0   Personal Auto  Four-Door Car   \n",
              "1069                         0    Special Auto            SUV   \n",
              "1070                         0   Personal Auto   Two-Door Car   \n",
              "\n",
              "      total_claim_amount  \n",
              "1            1131.464935  \n",
              "2             566.472247  \n",
              "3             529.881344  \n",
              "4              17.269323  \n",
              "5             159.383042  \n",
              "...                  ...  \n",
              "1066          361.455219  \n",
              "1067          207.320041  \n",
              "1068          633.600000  \n",
              "1069          547.200000  \n",
              "1070          537.600000  \n",
              "\n",
              "[1070 rows x 11 columns]"
            ]
          },
          "execution_count": 18,
          "metadata": {},
          "output_type": "execute_result"
        }
      ],
      "source": [
        "df_threshold = df.dropna(thresh=10) #Rows with at least 10 non-null values are retained, and rows with fewer than 10 non-null values are dropped.\n",
        "df_threshold"
      ]
    },
    {
      "cell_type": "code",
      "execution_count": 19,
      "id": "ceba7b39",
      "metadata": {},
      "outputs": [
        {
          "name": "stdout",
          "output_type": "stream",
          "text": [
            "California    293\n",
            "Oregon        276\n",
            "Arizona       188\n",
            "Washington    108\n",
            "Nevada         89\n",
            "Name: state, dtype: int64\n",
            "\n",
            "F    502\n",
            "M    452\n",
            "Name: gender, dtype: int64\n",
            "\n"
          ]
        }
      ],
      "source": [
        "#4.2. Fill the null values with a specific value (such as the column mean or median for numerical variables, and mode for categorical variables)\n",
        "#We will first drop the missing values for state and gender columns\n",
        "df2 = df.dropna(subset=['state'])\n",
        "df2 = df2.dropna(subset=['gender'])\n",
        "print(df2[\"state\"].value_counts())\n",
        "print(\"\")\n",
        "print(df2[\"gender\"].value_counts())\n",
        "print(\"\")\n",
        "#For education, we will fill null values with the mode by state and gender\n",
        "#we use the groupby method\n",
        "df2[\"education\"] = df2[\"education\"].fillna(df2.groupby([\"state\",\"gender\"])[\"education\"].transform(lambda x: x.mode().iloc[0])) #mode() returns a pd Series with modes, while iloc[0] selects the first element of the series\n"
      ]
    },
    {
      "cell_type": "code",
      "execution_count": 20,
      "id": "3b15d2f9",
      "metadata": {},
      "outputs": [
        {
          "name": "stdout",
          "output_type": "stream",
          "text": [
            "Personal Auto     691\n",
            "Corporate Auto    211\n",
            "Special Auto       52\n",
            "Name: policy_type, dtype: int64\n",
            "\n",
            "Four-Door Car    508\n",
            "Two-Door Car     184\n",
            "SUV              179\n",
            "Luxury            83\n",
            "Name: vehicle_class, dtype: int64\n",
            "\n"
          ]
        }
      ],
      "source": [
        "#try to apply this to several columns at once\n",
        "#define a list of columns to change\n",
        "categorical_columns = ['policy_type','vehicle_class']\n",
        "for column in categorical_columns:\n",
        "    df2[column] = df2[column].fillna(df2.groupby([\"state\",\"gender\"])[column].transform(lambda x: x.mode().iloc[0]))\n",
        "    print(df2[column].value_counts())\n",
        "    print(\"\")\n",
        "\n"
      ]
    },
    {
      "cell_type": "code",
      "execution_count": 21,
      "id": "1e371a92",
      "metadata": {},
      "outputs": [
        {
          "data": {
            "text/plain": [
              "Index(['customer', 'state', 'gender', 'education', 'customer_lifetime_value',\n",
              "       'income', 'monthly_premium_auto', 'number_of_open_complaints',\n",
              "       'policy_type', 'vehicle_class', 'total_claim_amount'],\n",
              "      dtype='object')"
            ]
          },
          "execution_count": 21,
          "metadata": {},
          "output_type": "execute_result"
        }
      ],
      "source": [
        "df2.columns"
      ]
    },
    {
      "cell_type": "code",
      "execution_count": 22,
      "id": "34b0a301",
      "metadata": {},
      "outputs": [
        {
          "name": "stdout",
          "output_type": "stream",
          "text": [
            "The column customer_lifetime_value has 0 missing values.\n",
            "\n",
            "The column income has 0 missing values.\n",
            "\n",
            "The column monthly_premium_auto has 0 missing values.\n",
            "\n",
            "The column total_claim_amount has 0 missing values.\n",
            "\n"
          ]
        }
      ],
      "source": [
        "#for numerical columns\n",
        "numerical_columns = [\"customer_lifetime_value\",\"income\",\"monthly_premium_auto\",\"total_claim_amount\"]\n",
        "for column in numerical_columns:\n",
        "    df2[column] = df2[column].fillna(df2.groupby([\"state\",\"gender\"])[column].transform('mean'))\n",
        "    print(f\"The column {column} has {df2[column].isna().sum()} missing values.\")\n",
        "    print(\"\")"
      ]
    },
    {
      "cell_type": "code",
      "execution_count": 23,
      "id": "27b306a1",
      "metadata": {},
      "outputs": [
        {
          "name": "stdout",
          "output_type": "stream",
          "text": [
            "The column state has 0 null values.\n",
            "The column gender has 1 null values.\n",
            "The column education has 0 null values.\n",
            "The column policy_type has 0 null values.\n",
            "The column vehicle_class has 0 null values.\n",
            "  customer       state gender education  customer_lifetime_value  income  \\\n",
            "0  RB50392  Washington    NaN    Master                      NaN     0.0   \n",
            "\n",
            "   monthly_premium_auto number_of_open_complaints    policy_type  \\\n",
            "0                1000.0                         0  Personal Auto   \n",
            "\n",
            "   vehicle_class  total_claim_amount  \n",
            "0  Four-Door Car            2.704934  \n"
          ]
        }
      ],
      "source": [
        "# 4.3. - Fill the null values with the previous or next value in the column\n",
        "#for categorical: \n",
        "categorical_columns = ['state','gender','education','policy_type','vehicle_class']\n",
        "numerical_columns = [\"customer_lifetime_value\",\"income\",\"monthly_premium_auto\",\"total_claim_amount\"]\n",
        "df3 = df\n",
        "#for categorical values ffill\n",
        "for column in categorical_columns:\n",
        "    df3[column] = df3[column].fillna(method='ffill')\n",
        "    print(f\"The column {column} has {df3[column].isna().sum()} null values.\")\n",
        "\n",
        "#we see that column gender still has a missing value because the first valye is a NaN\n",
        "\n",
        "print(df3.head(1))\n",
        "      \n",
        "\n"
      ]
    },
    {
      "cell_type": "code",
      "execution_count": 24,
      "id": "8a81500d",
      "metadata": {},
      "outputs": [
        {
          "name": "stdout",
          "output_type": "stream",
          "text": [
            "The column customer_lifetime_value has 2937 null values.\n",
            "The column income has 2937 null values.\n",
            "The column monthly_premium_auto has 2937 null values.\n",
            "The column total_claim_amount has 2937 null values.\n"
          ]
        },
        {
          "data": {
            "text/html": [
              "<div>\n",
              "<style scoped>\n",
              "    .dataframe tbody tr th:only-of-type {\n",
              "        vertical-align: middle;\n",
              "    }\n",
              "\n",
              "    .dataframe tbody tr th {\n",
              "        vertical-align: top;\n",
              "    }\n",
              "\n",
              "    .dataframe thead th {\n",
              "        text-align: right;\n",
              "    }\n",
              "</style>\n",
              "<table border=\"1\" class=\"dataframe\">\n",
              "  <thead>\n",
              "    <tr style=\"text-align: right;\">\n",
              "      <th></th>\n",
              "      <th>customer</th>\n",
              "      <th>state</th>\n",
              "      <th>gender</th>\n",
              "      <th>education</th>\n",
              "      <th>customer_lifetime_value</th>\n",
              "      <th>income</th>\n",
              "      <th>monthly_premium_auto</th>\n",
              "      <th>number_of_open_complaints</th>\n",
              "      <th>policy_type</th>\n",
              "      <th>vehicle_class</th>\n",
              "      <th>total_claim_amount</th>\n",
              "    </tr>\n",
              "  </thead>\n",
              "  <tbody>\n",
              "    <tr>\n",
              "      <th>0</th>\n",
              "      <td>RB50392</td>\n",
              "      <td>Washington</td>\n",
              "      <td>NaN</td>\n",
              "      <td>Master</td>\n",
              "      <td>697953.59</td>\n",
              "      <td>0.0</td>\n",
              "      <td>1000.0</td>\n",
              "      <td>0</td>\n",
              "      <td>Personal Auto</td>\n",
              "      <td>Four-Door Car</td>\n",
              "      <td>2.704934</td>\n",
              "    </tr>\n",
              "    <tr>\n",
              "      <th>1</th>\n",
              "      <td>QZ44356</td>\n",
              "      <td>Arizona</td>\n",
              "      <td>F</td>\n",
              "      <td>Bachelor</td>\n",
              "      <td>697953.59</td>\n",
              "      <td>0.0</td>\n",
              "      <td>94.0</td>\n",
              "      <td>0</td>\n",
              "      <td>Personal Auto</td>\n",
              "      <td>Four-Door Car</td>\n",
              "      <td>1131.464935</td>\n",
              "    </tr>\n",
              "    <tr>\n",
              "      <th>2</th>\n",
              "      <td>AI49188</td>\n",
              "      <td>Nevada</td>\n",
              "      <td>F</td>\n",
              "      <td>Bachelor</td>\n",
              "      <td>1288743.17</td>\n",
              "      <td>48767.0</td>\n",
              "      <td>108.0</td>\n",
              "      <td>0</td>\n",
              "      <td>Personal Auto</td>\n",
              "      <td>Two-Door Car</td>\n",
              "      <td>566.472247</td>\n",
              "    </tr>\n",
              "    <tr>\n",
              "      <th>3</th>\n",
              "      <td>WW63253</td>\n",
              "      <td>California</td>\n",
              "      <td>M</td>\n",
              "      <td>Bachelor</td>\n",
              "      <td>764586.18</td>\n",
              "      <td>0.0</td>\n",
              "      <td>106.0</td>\n",
              "      <td>0</td>\n",
              "      <td>Corporate Auto</td>\n",
              "      <td>SUV</td>\n",
              "      <td>529.881344</td>\n",
              "    </tr>\n",
              "    <tr>\n",
              "      <th>4</th>\n",
              "      <td>GA49547</td>\n",
              "      <td>Washington</td>\n",
              "      <td>M</td>\n",
              "      <td>High School or Below</td>\n",
              "      <td>536307.65</td>\n",
              "      <td>36357.0</td>\n",
              "      <td>68.0</td>\n",
              "      <td>0</td>\n",
              "      <td>Personal Auto</td>\n",
              "      <td>Four-Door Car</td>\n",
              "      <td>17.269323</td>\n",
              "    </tr>\n",
              "  </tbody>\n",
              "</table>\n",
              "</div>"
            ],
            "text/plain": [
              "  customer       state gender             education  customer_lifetime_value  \\\n",
              "0  RB50392  Washington    NaN                Master                697953.59   \n",
              "1  QZ44356     Arizona      F              Bachelor                697953.59   \n",
              "2  AI49188      Nevada      F              Bachelor               1288743.17   \n",
              "3  WW63253  California      M              Bachelor                764586.18   \n",
              "4  GA49547  Washington      M  High School or Below                536307.65   \n",
              "\n",
              "    income  monthly_premium_auto number_of_open_complaints     policy_type  \\\n",
              "0      0.0                1000.0                         0   Personal Auto   \n",
              "1      0.0                  94.0                         0   Personal Auto   \n",
              "2  48767.0                 108.0                         0   Personal Auto   \n",
              "3      0.0                 106.0                         0  Corporate Auto   \n",
              "4  36357.0                  68.0                         0   Personal Auto   \n",
              "\n",
              "   vehicle_class  total_claim_amount  \n",
              "0  Four-Door Car            2.704934  \n",
              "1  Four-Door Car         1131.464935  \n",
              "2   Two-Door Car          566.472247  \n",
              "3            SUV          529.881344  \n",
              "4  Four-Door Car           17.269323  "
            ]
          },
          "execution_count": 24,
          "metadata": {},
          "output_type": "execute_result"
        }
      ],
      "source": [
        "#for numerical values bfill\n",
        "for column2 in numerical_columns:\n",
        "    df3[column2] = df3[column2].fillna(method='bfill')\n",
        "    print(f\"The column {column2} has {df3[column2].isna().sum()} null values.\")\n",
        "\n",
        "df3.head()\n",
        "\n",
        "# if there are consecutive missing values at the end of the column and there is no non-null value to copy backward, \n",
        "#the missing values will remain:\n"
      ]
    },
    {
      "cell_type": "code",
      "execution_count": 25,
      "id": "9e1e6f5f",
      "metadata": {},
      "outputs": [],
      "source": [
        "# 4.4. - Fill the null values based on a more complex algorithm or model (note: we haven't covered this yet)\n",
        "#the grouping used above"
      ]
    },
    {
      "cell_type": "markdown",
      "id": "98416351-e999-4156-9834-9b00a311adfa",
      "metadata": {
        "id": "98416351-e999-4156-9834-9b00a311adfa"
      },
      "source": [
        "## Exercise 5: Dealing with duplicates"
      ]
    },
    {
      "cell_type": "markdown",
      "id": "ea0816a7-a18e-4d4c-b667-a8452a800bd1",
      "metadata": {
        "id": "ea0816a7-a18e-4d4c-b667-a8452a800bd1"
      },
      "source": [
        "Use the `.duplicated()` method to identify any duplicate rows in the dataframe.\n",
        "\n",
        "Decide on a strategy for handling the duplicates. Options include:\n",
        "- Dropping all duplicate rows\n",
        "- Keeping only the first occurrence of each duplicated row\n",
        "- Keeping only the last occurrence of each duplicated row\n",
        "- Dropping duplicates based on a subset of columns\n",
        "- Dropping duplicates based on a specific column\n",
        "\n",
        "Implement your chosen strategy using the `drop_duplicates()` function.\n",
        "\n",
        "Verify that your strategy has successfully handled the duplicates by checking for duplicates again using `.duplicated()`.\n",
        "\n",
        "Remember to document your process and explain your reasoning for choosing a particular strategy for handling duplicates.\n",
        "\n",
        "Save the cleaned dataset to a new CSV file.\n",
        "\n",
        "*Hint*: *after dropping duplicates, reset the index to ensure consistency*."
      ]
    },
    {
      "cell_type": "code",
      "execution_count": 26,
      "id": "1929362c-47ed-47cb-baca-358b78d401a0",
      "metadata": {
        "id": "1929362c-47ed-47cb-baca-358b78d401a0"
      },
      "outputs": [
        {
          "data": {
            "text/plain": [
              "2936"
            ]
          },
          "execution_count": 26,
          "metadata": {},
          "output_type": "execute_result"
        }
      ],
      "source": [
        "# Your code here\n",
        "df.duplicated()\n",
        "df.duplicated().sum()"
      ]
    },
    {
      "cell_type": "code",
      "execution_count": 27,
      "id": "0f505fb0",
      "metadata": {},
      "outputs": [],
      "source": [
        "#5.1. - Dropping all duplicate rows\n",
        "import pandas as pd\n",
        "df_copy1 = df.copy()\n",
        "df_copy1.drop_duplicates(inplace=True)"
      ]
    },
    {
      "cell_type": "code",
      "execution_count": 28,
      "id": "60684785",
      "metadata": {},
      "outputs": [],
      "source": [
        "# 5.2. - Keeping only the first occurrence of each duplicated row\n",
        "\n",
        "# Assume df is your DataFrame\n",
        "df_copy2 = df.copy()  # Create a copy of the original DataFrame\n",
        "\n",
        "# Drop duplicated rows keeping only the first occurrence\n",
        "df_copy2.drop_duplicates(inplace=True, keep='first')\n"
      ]
    },
    {
      "cell_type": "code",
      "execution_count": 29,
      "id": "5995d69d",
      "metadata": {},
      "outputs": [],
      "source": [
        "#5.3. - Keeping only the last occurrence of each duplicated row\n",
        "\n",
        "df_copy3 = df.copy()  # Create a copy of the original DataFrame\n",
        "\n",
        "df_copy3.drop_duplicates(inplace=True, keep='last')"
      ]
    },
    {
      "cell_type": "code",
      "execution_count": 30,
      "id": "86c109c1",
      "metadata": {},
      "outputs": [],
      "source": [
        "# 5.4. - Dropping duplicates based on a subset of columns\n",
        "df_copy4 = df.copy()\n",
        "subset_cols = ['education', 'income']\n",
        "df_copy4.drop_duplicates(subset=subset_cols, inplace=True)"
      ]
    },
    {
      "cell_type": "code",
      "execution_count": 31,
      "id": "6e9038d9",
      "metadata": {},
      "outputs": [],
      "source": [
        "# 5.5. Dropping duplicates based on a specific column\n",
        "\n",
        "df_copy5 = df.copy()\n",
        "subset_col = 'income'\n",
        "df_copy5.drop_duplicates(subset=[subset_col], inplace=True)\n"
      ]
    },
    {
      "cell_type": "markdown",
      "id": "60840701-4783-40e2-b4d8-55303f9100c9",
      "metadata": {
        "id": "60840701-4783-40e2-b4d8-55303f9100c9"
      },
      "source": [
        "# Bonus: Challenge 2: creating functions on a separate `py` file"
      ]
    },
    {
      "cell_type": "markdown",
      "id": "9d1adb3a-17cf-4899-8041-da21a4337fb4",
      "metadata": {
        "id": "9d1adb3a-17cf-4899-8041-da21a4337fb4"
      },
      "source": [
        "Put all the data cleaning and formatting steps into functions, and create a main function that performs all the cleaning and formatting.\n",
        "\n",
        "Write these functions in separate .py file(s). By putting these steps into functions, we can make the code more modular and easier to maintain."
      ]
    },
    {
      "cell_type": "markdown",
      "id": "0e170dc2-b62c-417a-8248-e63ed18a70c4",
      "metadata": {
        "id": "0e170dc2-b62c-417a-8248-e63ed18a70c4"
      },
      "source": [
        "*Hint: autoreload module is a utility module in Python that allows you to automatically reload modules in the current session when changes are made to the source code. This can be useful in situations where you are actively developing code and want to see the effects of changes you make without having to constantly restart the Python interpreter or Jupyter Notebook kernel.*"
      ]
    },
    {
      "cell_type": "code",
      "execution_count": 39,
      "id": "a52c6dfc-cd11-4d01-bda4-f719fa33e9a4",
      "metadata": {
        "id": "a52c6dfc-cd11-4d01-bda4-f719fa33e9a4"
      },
      "outputs": [],
      "source": [
        "# Your code here\n",
        "\n",
        "##Creating a function for three of the cleanings done above\n",
        "def data_cleaner(df):\n",
        "    gender_assignment = {\"Male\":\"M\",\"female\":\"F\",\"Femal\":\"F\",\"M\":\"M\",\"F\":\"F\"} \n",
        "    df.columns = list(map(lambda x : x.lower().replace(\" \",\"_\"), df.columns)) #use this to clean columns names\n",
        "    df[\"gender\"] = df[\"gender\"].map(gender_assignment)  #cleaning gender\n",
        "    df_cleaned = df.dropna(thresh=10) #Rows with at least 10 non-null values are retained, and rows with fewer than 10 non-null values are dropped.\n",
        "    return df_cleaned\n",
        "\n"
      ]
    },
    {
      "cell_type": "code",
      "execution_count": 40,
      "id": "a989c6f6",
      "metadata": {},
      "outputs": [
        {
          "data": {
            "text/html": [
              "<div>\n",
              "<style scoped>\n",
              "    .dataframe tbody tr th:only-of-type {\n",
              "        vertical-align: middle;\n",
              "    }\n",
              "\n",
              "    .dataframe tbody tr th {\n",
              "        vertical-align: top;\n",
              "    }\n",
              "\n",
              "    .dataframe thead th {\n",
              "        text-align: right;\n",
              "    }\n",
              "</style>\n",
              "<table border=\"1\" class=\"dataframe\">\n",
              "  <thead>\n",
              "    <tr style=\"text-align: right;\">\n",
              "      <th></th>\n",
              "      <th>customer</th>\n",
              "      <th>state</th>\n",
              "      <th>gender</th>\n",
              "      <th>education</th>\n",
              "      <th>customer_lifetime_value</th>\n",
              "      <th>income</th>\n",
              "      <th>monthly_premium_auto</th>\n",
              "      <th>number_of_open_complaints</th>\n",
              "      <th>policy_type</th>\n",
              "      <th>vehicle_class</th>\n",
              "      <th>total_claim_amount</th>\n",
              "    </tr>\n",
              "  </thead>\n",
              "  <tbody>\n",
              "    <tr>\n",
              "      <th>0</th>\n",
              "      <td>RB50392</td>\n",
              "      <td>Washington</td>\n",
              "      <td>NaN</td>\n",
              "      <td>Master</td>\n",
              "      <td>697953.59</td>\n",
              "      <td>0.0</td>\n",
              "      <td>1000.0</td>\n",
              "      <td>0</td>\n",
              "      <td>Personal Auto</td>\n",
              "      <td>Four-Door Car</td>\n",
              "      <td>2.704934</td>\n",
              "    </tr>\n",
              "    <tr>\n",
              "      <th>1</th>\n",
              "      <td>QZ44356</td>\n",
              "      <td>Arizona</td>\n",
              "      <td>F</td>\n",
              "      <td>Bachelor</td>\n",
              "      <td>697953.59</td>\n",
              "      <td>0.0</td>\n",
              "      <td>94.0</td>\n",
              "      <td>0</td>\n",
              "      <td>Personal Auto</td>\n",
              "      <td>Four-Door Car</td>\n",
              "      <td>1131.464935</td>\n",
              "    </tr>\n",
              "    <tr>\n",
              "      <th>2</th>\n",
              "      <td>AI49188</td>\n",
              "      <td>Nevada</td>\n",
              "      <td>F</td>\n",
              "      <td>Bachelor</td>\n",
              "      <td>1288743.17</td>\n",
              "      <td>48767.0</td>\n",
              "      <td>108.0</td>\n",
              "      <td>0</td>\n",
              "      <td>Personal Auto</td>\n",
              "      <td>Two-Door Car</td>\n",
              "      <td>566.472247</td>\n",
              "    </tr>\n",
              "    <tr>\n",
              "      <th>3</th>\n",
              "      <td>WW63253</td>\n",
              "      <td>California</td>\n",
              "      <td>M</td>\n",
              "      <td>Bachelor</td>\n",
              "      <td>764586.18</td>\n",
              "      <td>0.0</td>\n",
              "      <td>106.0</td>\n",
              "      <td>0</td>\n",
              "      <td>Corporate Auto</td>\n",
              "      <td>SUV</td>\n",
              "      <td>529.881344</td>\n",
              "    </tr>\n",
              "    <tr>\n",
              "      <th>4</th>\n",
              "      <td>GA49547</td>\n",
              "      <td>Washington</td>\n",
              "      <td>M</td>\n",
              "      <td>High School or Below</td>\n",
              "      <td>536307.65</td>\n",
              "      <td>36357.0</td>\n",
              "      <td>68.0</td>\n",
              "      <td>0</td>\n",
              "      <td>Personal Auto</td>\n",
              "      <td>Four-Door Car</td>\n",
              "      <td>17.269323</td>\n",
              "    </tr>\n",
              "    <tr>\n",
              "      <th>...</th>\n",
              "      <td>...</td>\n",
              "      <td>...</td>\n",
              "      <td>...</td>\n",
              "      <td>...</td>\n",
              "      <td>...</td>\n",
              "      <td>...</td>\n",
              "      <td>...</td>\n",
              "      <td>...</td>\n",
              "      <td>...</td>\n",
              "      <td>...</td>\n",
              "      <td>...</td>\n",
              "    </tr>\n",
              "    <tr>\n",
              "      <th>1066</th>\n",
              "      <td>TM65736</td>\n",
              "      <td>Oregon</td>\n",
              "      <td>M</td>\n",
              "      <td>Master</td>\n",
              "      <td>305955.03</td>\n",
              "      <td>38644.0</td>\n",
              "      <td>78.0</td>\n",
              "      <td>1</td>\n",
              "      <td>Personal Auto</td>\n",
              "      <td>Four-Door Car</td>\n",
              "      <td>361.455219</td>\n",
              "    </tr>\n",
              "    <tr>\n",
              "      <th>1067</th>\n",
              "      <td>VJ51327</td>\n",
              "      <td>California</td>\n",
              "      <td>F</td>\n",
              "      <td>High School or Below</td>\n",
              "      <td>2031499.76</td>\n",
              "      <td>63209.0</td>\n",
              "      <td>102.0</td>\n",
              "      <td>2</td>\n",
              "      <td>Personal Auto</td>\n",
              "      <td>SUV</td>\n",
              "      <td>207.320041</td>\n",
              "    </tr>\n",
              "    <tr>\n",
              "      <th>1068</th>\n",
              "      <td>GS98873</td>\n",
              "      <td>Arizona</td>\n",
              "      <td>F</td>\n",
              "      <td>Bachelor</td>\n",
              "      <td>323912.47</td>\n",
              "      <td>16061.0</td>\n",
              "      <td>88.0</td>\n",
              "      <td>0</td>\n",
              "      <td>Personal Auto</td>\n",
              "      <td>Four-Door Car</td>\n",
              "      <td>633.600000</td>\n",
              "    </tr>\n",
              "    <tr>\n",
              "      <th>1069</th>\n",
              "      <td>CW49887</td>\n",
              "      <td>California</td>\n",
              "      <td>F</td>\n",
              "      <td>Master</td>\n",
              "      <td>462680.11</td>\n",
              "      <td>79487.0</td>\n",
              "      <td>114.0</td>\n",
              "      <td>0</td>\n",
              "      <td>Special Auto</td>\n",
              "      <td>SUV</td>\n",
              "      <td>547.200000</td>\n",
              "    </tr>\n",
              "    <tr>\n",
              "      <th>1070</th>\n",
              "      <td>MY31220</td>\n",
              "      <td>California</td>\n",
              "      <td>F</td>\n",
              "      <td>College</td>\n",
              "      <td>899704.02</td>\n",
              "      <td>54230.0</td>\n",
              "      <td>112.0</td>\n",
              "      <td>0</td>\n",
              "      <td>Personal Auto</td>\n",
              "      <td>Two-Door Car</td>\n",
              "      <td>537.600000</td>\n",
              "    </tr>\n",
              "  </tbody>\n",
              "</table>\n",
              "<p>1071 rows × 11 columns</p>\n",
              "</div>"
            ],
            "text/plain": [
              "     customer       state gender             education  \\\n",
              "0     RB50392  Washington    NaN                Master   \n",
              "1     QZ44356     Arizona      F              Bachelor   \n",
              "2     AI49188      Nevada      F              Bachelor   \n",
              "3     WW63253  California      M              Bachelor   \n",
              "4     GA49547  Washington      M  High School or Below   \n",
              "...       ...         ...    ...                   ...   \n",
              "1066  TM65736      Oregon      M                Master   \n",
              "1067  VJ51327  California      F  High School or Below   \n",
              "1068  GS98873     Arizona      F              Bachelor   \n",
              "1069  CW49887  California      F                Master   \n",
              "1070  MY31220  California      F               College   \n",
              "\n",
              "      customer_lifetime_value   income  monthly_premium_auto  \\\n",
              "0                   697953.59      0.0                1000.0   \n",
              "1                   697953.59      0.0                  94.0   \n",
              "2                  1288743.17  48767.0                 108.0   \n",
              "3                   764586.18      0.0                 106.0   \n",
              "4                   536307.65  36357.0                  68.0   \n",
              "...                       ...      ...                   ...   \n",
              "1066                305955.03  38644.0                  78.0   \n",
              "1067               2031499.76  63209.0                 102.0   \n",
              "1068                323912.47  16061.0                  88.0   \n",
              "1069                462680.11  79487.0                 114.0   \n",
              "1070                899704.02  54230.0                 112.0   \n",
              "\n",
              "     number_of_open_complaints     policy_type  vehicle_class  \\\n",
              "0                            0   Personal Auto  Four-Door Car   \n",
              "1                            0   Personal Auto  Four-Door Car   \n",
              "2                            0   Personal Auto   Two-Door Car   \n",
              "3                            0  Corporate Auto            SUV   \n",
              "4                            0   Personal Auto  Four-Door Car   \n",
              "...                        ...             ...            ...   \n",
              "1066                         1   Personal Auto  Four-Door Car   \n",
              "1067                         2   Personal Auto            SUV   \n",
              "1068                         0   Personal Auto  Four-Door Car   \n",
              "1069                         0    Special Auto            SUV   \n",
              "1070                         0   Personal Auto   Two-Door Car   \n",
              "\n",
              "      total_claim_amount  \n",
              "0               2.704934  \n",
              "1            1131.464935  \n",
              "2             566.472247  \n",
              "3             529.881344  \n",
              "4              17.269323  \n",
              "...                  ...  \n",
              "1066          361.455219  \n",
              "1067          207.320041  \n",
              "1068          633.600000  \n",
              "1069          547.200000  \n",
              "1070          537.600000  \n",
              "\n",
              "[1071 rows x 11 columns]"
            ]
          },
          "execution_count": 40,
          "metadata": {},
          "output_type": "execute_result"
        }
      ],
      "source": [
        "data_cleaner(df)"
      ]
    },
    {
      "cell_type": "markdown",
      "id": "80f846bb-3f5e-4ca2-96c0-900728daca5a",
      "metadata": {
        "id": "80f846bb-3f5e-4ca2-96c0-900728daca5a",
        "tags": []
      },
      "source": [
        "# Bonus: Challenge 3: Analyzing Clean and Formated Data"
      ]
    },
    {
      "cell_type": "markdown",
      "id": "9021630e-cc90-446c-b5bd-264d6c864207",
      "metadata": {
        "id": "9021630e-cc90-446c-b5bd-264d6c864207"
      },
      "source": [
        "You have been tasked with analyzing the data to identify potential areas for improving customer retention and profitability. Your goal is to identify customers with a high policy claim amount and a low customer lifetime value.\n",
        "\n",
        "In the Pandas Lab, we only looked at high policy claim amounts because we couldn't look into low customer lifetime values. If we had tried to work with that column, we wouldn't have been able to because customer lifetime value wasn't clean and in its proper format. So after cleaning and formatting the data, let's get some more interesting insights!\n",
        "\n",
        "Instructions:\n",
        "\n",
        "- Review the statistics again for total claim amount and customer lifetime value to gain an understanding of the data.\n",
        "- To identify potential areas for improving customer retention and profitability, we want to focus on customers with a high policy claim amount and a low customer lifetime value. Consider customers with a high policy claim amount to be those in the top 25% of the total claim amount, and clients with a low customer lifetime value to be those in the bottom 25% of the customer lifetime value. Create a pandas DataFrame object that contains information about customers with a policy claim amount greater than the 75th percentile and a customer lifetime value in the bottom 25th percentile.\n",
        "- Use DataFrame methods to calculate summary statistics about the high policy claim amount and low customer lifetime value data. To do so, select both columns of the dataframe simultaneously and pass it to the `.describe()` method. This will give you descriptive statistics, such as mean, median, standard deviation, minimum and maximum values for both columns at the same time, allowing you to compare and analyze their characteristics."
      ]
    },
    {
      "cell_type": "code",
      "execution_count": 35,
      "id": "211e82b5-461a-4d6f-8a23-4deccb84173c",
      "metadata": {
        "id": "211e82b5-461a-4d6f-8a23-4deccb84173c"
      },
      "outputs": [
        {
          "data": {
            "text/html": [
              "<div>\n",
              "<style scoped>\n",
              "    .dataframe tbody tr th:only-of-type {\n",
              "        vertical-align: middle;\n",
              "    }\n",
              "\n",
              "    .dataframe tbody tr th {\n",
              "        vertical-align: top;\n",
              "    }\n",
              "\n",
              "    .dataframe thead th {\n",
              "        text-align: right;\n",
              "    }\n",
              "</style>\n",
              "<table border=\"1\" class=\"dataframe\">\n",
              "  <thead>\n",
              "    <tr style=\"text-align: right;\">\n",
              "      <th></th>\n",
              "      <th>customer</th>\n",
              "      <th>state</th>\n",
              "      <th>gender</th>\n",
              "      <th>education</th>\n",
              "      <th>customer_lifetime_value</th>\n",
              "      <th>income</th>\n",
              "      <th>monthly_premium_auto</th>\n",
              "      <th>number_of_open_complaints</th>\n",
              "      <th>policy_type</th>\n",
              "      <th>vehicle_class</th>\n",
              "      <th>total_claim_amount</th>\n",
              "    </tr>\n",
              "  </thead>\n",
              "  <tbody>\n",
              "    <tr>\n",
              "      <th>0</th>\n",
              "      <td>RB50392</td>\n",
              "      <td>Washington</td>\n",
              "      <td>NaN</td>\n",
              "      <td>Master</td>\n",
              "      <td>697953.59</td>\n",
              "      <td>0.0</td>\n",
              "      <td>1000.0</td>\n",
              "      <td>0</td>\n",
              "      <td>Personal Auto</td>\n",
              "      <td>Four-Door Car</td>\n",
              "      <td>2.704934</td>\n",
              "    </tr>\n",
              "    <tr>\n",
              "      <th>1</th>\n",
              "      <td>QZ44356</td>\n",
              "      <td>Arizona</td>\n",
              "      <td>F</td>\n",
              "      <td>Bachelor</td>\n",
              "      <td>697953.59</td>\n",
              "      <td>0.0</td>\n",
              "      <td>94.0</td>\n",
              "      <td>0</td>\n",
              "      <td>Personal Auto</td>\n",
              "      <td>Four-Door Car</td>\n",
              "      <td>1131.464935</td>\n",
              "    </tr>\n",
              "    <tr>\n",
              "      <th>2</th>\n",
              "      <td>AI49188</td>\n",
              "      <td>Nevada</td>\n",
              "      <td>F</td>\n",
              "      <td>Bachelor</td>\n",
              "      <td>1288743.17</td>\n",
              "      <td>48767.0</td>\n",
              "      <td>108.0</td>\n",
              "      <td>0</td>\n",
              "      <td>Personal Auto</td>\n",
              "      <td>Two-Door Car</td>\n",
              "      <td>566.472247</td>\n",
              "    </tr>\n",
              "    <tr>\n",
              "      <th>3</th>\n",
              "      <td>WW63253</td>\n",
              "      <td>California</td>\n",
              "      <td>M</td>\n",
              "      <td>Bachelor</td>\n",
              "      <td>764586.18</td>\n",
              "      <td>0.0</td>\n",
              "      <td>106.0</td>\n",
              "      <td>0</td>\n",
              "      <td>Corporate Auto</td>\n",
              "      <td>SUV</td>\n",
              "      <td>529.881344</td>\n",
              "    </tr>\n",
              "    <tr>\n",
              "      <th>4</th>\n",
              "      <td>GA49547</td>\n",
              "      <td>Washington</td>\n",
              "      <td>M</td>\n",
              "      <td>High School or Below</td>\n",
              "      <td>536307.65</td>\n",
              "      <td>36357.0</td>\n",
              "      <td>68.0</td>\n",
              "      <td>0</td>\n",
              "      <td>Personal Auto</td>\n",
              "      <td>Four-Door Car</td>\n",
              "      <td>17.269323</td>\n",
              "    </tr>\n",
              "  </tbody>\n",
              "</table>\n",
              "</div>"
            ],
            "text/plain": [
              "  customer       state gender             education  customer_lifetime_value  \\\n",
              "0  RB50392  Washington    NaN                Master                697953.59   \n",
              "1  QZ44356     Arizona      F              Bachelor                697953.59   \n",
              "2  AI49188      Nevada      F              Bachelor               1288743.17   \n",
              "3  WW63253  California      M              Bachelor                764586.18   \n",
              "4  GA49547  Washington      M  High School or Below                536307.65   \n",
              "\n",
              "    income  monthly_premium_auto number_of_open_complaints     policy_type  \\\n",
              "0      0.0                1000.0                         0   Personal Auto   \n",
              "1      0.0                  94.0                         0   Personal Auto   \n",
              "2  48767.0                 108.0                         0   Personal Auto   \n",
              "3      0.0                 106.0                         0  Corporate Auto   \n",
              "4  36357.0                  68.0                         0   Personal Auto   \n",
              "\n",
              "   vehicle_class  total_claim_amount  \n",
              "0  Four-Door Car            2.704934  \n",
              "1  Four-Door Car         1131.464935  \n",
              "2   Two-Door Car          566.472247  \n",
              "3            SUV          529.881344  \n",
              "4  Four-Door Car           17.269323  "
            ]
          },
          "execution_count": 35,
          "metadata": {},
          "output_type": "execute_result"
        }
      ],
      "source": [
        "# Your code here\n",
        "df.head()"
      ]
    },
    {
      "cell_type": "code",
      "execution_count": 37,
      "id": "4a3d5edb",
      "metadata": {},
      "outputs": [
        {
          "data": {
            "text/html": [
              "<div>\n",
              "<style scoped>\n",
              "    .dataframe tbody tr th:only-of-type {\n",
              "        vertical-align: middle;\n",
              "    }\n",
              "\n",
              "    .dataframe tbody tr th {\n",
              "        vertical-align: top;\n",
              "    }\n",
              "\n",
              "    .dataframe thead th {\n",
              "        text-align: right;\n",
              "    }\n",
              "</style>\n",
              "<table border=\"1\" class=\"dataframe\">\n",
              "  <thead>\n",
              "    <tr style=\"text-align: right;\">\n",
              "      <th></th>\n",
              "      <th>customer_lifetime_value</th>\n",
              "      <th>income</th>\n",
              "      <th>monthly_premium_auto</th>\n",
              "      <th>total_claim_amount</th>\n",
              "    </tr>\n",
              "  </thead>\n",
              "  <tbody>\n",
              "    <tr>\n",
              "      <th>count</th>\n",
              "      <td>5.320000e+02</td>\n",
              "      <td>532.000000</td>\n",
              "      <td>532.000000</td>\n",
              "      <td>532.000000</td>\n",
              "    </tr>\n",
              "    <tr>\n",
              "      <th>mean</th>\n",
              "      <td>5.981719e+05</td>\n",
              "      <td>30679.439850</td>\n",
              "      <td>144.443609</td>\n",
              "      <td>555.663094</td>\n",
              "    </tr>\n",
              "    <tr>\n",
              "      <th>std</th>\n",
              "      <td>5.464935e+05</td>\n",
              "      <td>29389.462187</td>\n",
              "      <td>588.108166</td>\n",
              "      <td>345.036007</td>\n",
              "    </tr>\n",
              "    <tr>\n",
              "      <th>min</th>\n",
              "      <td>2.004351e+05</td>\n",
              "      <td>0.000000</td>\n",
              "      <td>61.000000</td>\n",
              "      <td>1.838367</td>\n",
              "    </tr>\n",
              "    <tr>\n",
              "      <th>25%</th>\n",
              "      <td>2.717030e+05</td>\n",
              "      <td>0.000000</td>\n",
              "      <td>70.000000</td>\n",
              "      <td>321.600000</td>\n",
              "    </tr>\n",
              "    <tr>\n",
              "      <th>50%</th>\n",
              "      <td>3.796940e+05</td>\n",
              "      <td>26178.500000</td>\n",
              "      <td>92.000000</td>\n",
              "      <td>556.800000</td>\n",
              "    </tr>\n",
              "    <tr>\n",
              "      <th>75%</th>\n",
              "      <td>7.762479e+05</td>\n",
              "      <td>51888.750000</td>\n",
              "      <td>114.000000</td>\n",
              "      <td>710.408444</td>\n",
              "    </tr>\n",
              "    <tr>\n",
              "      <th>max</th>\n",
              "      <td>3.844586e+06</td>\n",
              "      <td>99316.000000</td>\n",
              "      <td>10202.000000</td>\n",
              "      <td>2893.239678</td>\n",
              "    </tr>\n",
              "  </tbody>\n",
              "</table>\n",
              "</div>"
            ],
            "text/plain": [
              "       customer_lifetime_value        income  monthly_premium_auto  \\\n",
              "count             5.320000e+02    532.000000            532.000000   \n",
              "mean              5.981719e+05  30679.439850            144.443609   \n",
              "std               5.464935e+05  29389.462187            588.108166   \n",
              "min               2.004351e+05      0.000000             61.000000   \n",
              "25%               2.717030e+05      0.000000             70.000000   \n",
              "50%               3.796940e+05  26178.500000             92.000000   \n",
              "75%               7.762479e+05  51888.750000            114.000000   \n",
              "max               3.844586e+06  99316.000000          10202.000000   \n",
              "\n",
              "       total_claim_amount  \n",
              "count          532.000000  \n",
              "mean           555.663094  \n",
              "std            345.036007  \n",
              "min              1.838367  \n",
              "25%            321.600000  \n",
              "50%            556.800000  \n",
              "75%            710.408444  \n",
              "max           2893.239678  "
            ]
          },
          "execution_count": 37,
          "metadata": {},
          "output_type": "execute_result"
        }
      ],
      "source": [
        "claim_amount_75 = df['total_claim_amount'].quantile(0.75)\n",
        "lifetime_value_25 = df['customer_lifetime_value'].quantile(0.25)\n",
        "\n",
        "high_claim = df[df['total_claim_amount']>claim_amount_75]\n",
        "low_value = df[df['customer_lifetime_value']<lifetime_value_25]\n",
        "\n",
        "target_customers = pd.concat([high_claim,low_value],axis=0,join='inner')\n",
        "\n",
        "target_customers.describe()"
      ]
    }
  ],
  "metadata": {
    "colab": {
      "provenance": []
    },
    "kernelspec": {
      "display_name": "Python 3 (ipykernel)",
      "language": "python",
      "name": "python3"
    },
    "language_info": {
      "codemirror_mode": {
        "name": "ipython",
        "version": 3
      },
      "file_extension": ".py",
      "mimetype": "text/x-python",
      "name": "python",
      "nbconvert_exporter": "python",
      "pygments_lexer": "ipython3",
      "version": "3.9.6"
    }
  },
  "nbformat": 4,
  "nbformat_minor": 5
}
